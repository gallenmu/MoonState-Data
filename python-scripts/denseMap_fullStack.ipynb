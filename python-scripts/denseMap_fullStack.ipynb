{
 "cells": [
  {
   "cell_type": "code",
   "execution_count": 1,
   "metadata": {
    "collapsed": true
   },
   "outputs": [],
   "source": [
    "# This script tries to approximate the cost of Google's DenseMap\n",
    "\n",
    "import pandas as pd\n",
    "import matplotlib.pyplot as plt\n",
    "from mpl_toolkits.mplot3d import Axes3D\n",
    "import math\n",
    "import numpy as np\n",
    "from scipy import optimize\n",
    "from sklearn.metrics import r2_score\n",
    "\n",
    "figsize=(4.5, 3)\n",
    "\n",
    "AnonBlue='#3070b3'\n",
    "AnonGreen='#a2ad00'\n",
    "AnonOrange='#e37222'\n",
    "\n",
    "PATH = \"../../paper/graphs\""
   ]
  },
  {
   "cell_type": "code",
   "execution_count": 2,
   "metadata": {},
   "outputs": [
    {
     "data": {
      "image/png": "[encoded data removed]",
      "text/plain": [
       "<Figure size 432x288 with 1 Axes>"
      ]
     },
     "metadata": {},
     "output_type": "display_data"
    }
   ],
   "source": [
    "# Just plot the data\n",
    "data = pd.read_csv(\"../data-files/denseMap.csv\")\n",
    "setupMean = data.groupby(['size'])['setup'].mean()\n",
    "runMean = data.groupby(['size'])['run'].mean()\n",
    "steps = data['size'].unique()\n",
    "\n",
    "plt.semilogx(basex=2)\n",
    "plt.ylim([0,1200])\n",
    "\n",
    "plt.plot(steps, setupMean)\n",
    "\n",
    "plt.grid(b=True)\n",
    "\n",
    "plt.show()"
   ]
  },
  {
   "cell_type": "code",
   "execution_count": 3,
   "metadata": {
    "collapsed": true
   },
   "outputs": [],
   "source": [
    "# This function models the insertion cost\n",
    "def setupfun(x):\n",
    "    return (650 + math.log(x,1.2)) + 170* (((np.sum([2**i for i in range(2, math.floor(math.log(x,2)))])/ x) -0.5) *2)\n",
    "\n",
    "# This function models the query cost\n",
    "def runfun_fit(x,t,o):\n",
    "    # This is the actual mathematical function\n",
    "    def runner(a):\n",
    "        return math.log(a,t) + o\n",
    "    # Magic in case curve_fit hands us an array\n",
    "    if isinstance(x, np.ndarray):\n",
    "        ret = []\n",
    "        for s in x:\n",
    "            ret += [runner(s)]\n",
    "        return ret\n",
    "    else:\n",
    "        return runner(x)\n",
    "\n"
   ]
  },
  {
   "cell_type": "code",
   "execution_count": 4,
   "metadata": {},
   "outputs": [
    {
     "name": "stdout",
     "output_type": "stream",
     "text": [
      "R2 score (setup): -0.8006968763676094\n",
      "[  1.0888403  104.22373547]\n",
      "R2 score (run): 0.6186670905187676\n",
      "=========================================================\n",
      "Please add the following lines to your LaTeX preamble:\n",
      "\n",
      "\\usepackage[utf8]{inputenc}\n",
      "\\usepackage{fontspec} % This line only for XeLaTeX and LuaLaTeX\n",
      "\\usepackage{pgfplots}\n",
      "=========================================================\n",
      "Horizontal alignment will be ignored as no 'x tick label text width' has been passed in the 'extra' parameter\n",
      "Horizontal alignment will be ignored as no 'y tick label text width' has been passed in the 'extra' parameter\n"
     ]
    }
   ],
   "source": [
    "#x = np.arange(2**10-1,2**17, 16)\n",
    "# Calculate the functions\n",
    "y = [setupfun(i) for i in steps]\n",
    "\n",
    "r2 = r2_score(setupMean, y) \n",
    "print(\"R2 score (setup): \" + str(r2))\n",
    "\n",
    "#params = [1.02,2**11,600]\n",
    "# Try to fit the data\n",
    "mins=[1.01, 0]\n",
    "maxs=[1.1, 1000]\n",
    "params, _ = optimize.curve_fit(runfun_fit, steps, runMean, bounds=(mins,maxs))\n",
    "print(params)\n",
    "fit = []\n",
    "for s in steps:\n",
    "    fit += [runfun_fit(s,params[0],params[1])]\n",
    "\n",
    "r2 = r2_score(runMean, fit) \n",
    "print(\"R2 score (run): \" + str(r2))\n",
    "    \n",
    "fig = plt.figure(figsize=figsize, dpi=300)\n",
    "\n",
    "plt.semilogx(basex=2)\n",
    "plt.ylim([0,1200])\n",
    "\n",
    "# Plot the data\n",
    "plt.plot(steps,y, label=\"fit-setup\", color=AnonOrange, linewidth=2, linestyle='--', dashes=(5, 1))\n",
    "plt.plot(steps, setupMean, label=\"data-setup\", color=AnonBlue, linewidth=2)\n",
    "plt.plot(steps, fit, label=\"fit-run\", color=AnonOrange, linewidth=2, linestyle='--', dashes=(5, 1))\n",
    "plt.plot(steps, runMean, label=\"data-run\", color=AnonBlue, linewidth=2)\n",
    "plt.legend(bbox_to_anchor=(1, 1))\n",
    "plt.ylabel(\"Cycles per Operation\")\n",
    "plt.xlabel(\"\\#Operations\")\n",
    "plt.grid(b=True)\n",
    "\n",
    "#plt.savefig('output/synth-denseMap.pdf',bbox_inches='tight')\n",
    "#plt.show()\n",
    "\n",
    "from matplotlib2tikz import save as tikz_save\n",
    "tikz_save(PATH + '/denseMap.tex',\n",
    "          figureheight='3.5cm',\n",
    "          figurewidth='.9\\\\columnwidth',\n",
    "          extra_axis_parameters = {\"mark options={scale=.15}\",\n",
    "                                   \"legend style={at={(0.5,1.1)}, draw=white!80.0!black, anchor=south}\",\n",
    "                                   \"legend columns = 2\"}\n",
    "         )"
   ]
  },
  {
   "cell_type": "code",
   "execution_count": null,
   "metadata": {
    "collapsed": true
   },
   "outputs": [],
   "source": []
  }
 ],
 "metadata": {
  "kernelspec": {
   "display_name": "Python 3",
   "language": "python",
   "name": "python3"
  },
  "language_info": {
   "codemirror_mode": {
    "name": "ipython",
    "version": 3
   },
   "file_extension": ".py",
   "mimetype": "text/x-python",
   "name": "python",
   "nbconvert_exporter": "python",
   "pygments_lexer": "ipython3",
   "version": "3.6.2"
  }
 },
 "nbformat": 4,
 "nbformat_minor": 2
}
