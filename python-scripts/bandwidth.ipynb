{
 "cells": [
  {
   "cell_type": "code",
   "execution_count": null,
   "metadata": {},
   "outputs": [],
   "source": [
    "# This script graphically represents the bandwidth considerations\n",
    "\n",
    "import pandas as pd\n",
    "import matplotlib.pyplot as plt\n",
    "from mpl_toolkits.mplot3d import Axes3D\n",
    "import math\n",
    "import numpy as np\n",
    "\n",
    "figsize=(4.5, 3)\n",
    "\n",
    "AnonBlue='#3070b3'\n",
    "AnonGreen='#a2ad00'\n",
    "AnonOrange='#e37222'\n",
    "\n",
    "PATH = \"../../paper/graphs\""
   ]
  },
  {
   "cell_type": "code",
   "execution_count": null,
   "metadata": {},
   "outputs": [],
   "source": [
    "data = pd.read_csv(\"../data-files/bandwidth.csv\")"
   ]
  },
  {
   "cell_type": "code",
   "execution_count": null,
   "metadata": {},
   "outputs": [],
   "source": [
    "fig = plt.figure(figsize=figsize, dpi=300)\n",
    "\n",
    "plt.plot(data['rx'], data['tx'], label='Bandwidth', color=AnonBlue, linewidth=2)\n",
    "\n",
    "plt.xlim([1,1250])\n",
    "plt.ylim([1,1150])\n",
    "plt.xlabel('Rx [Mbit/s]')\n",
    "plt.ylabel('Tx [Mbit/s]')\n",
    "plt.grid(b=True)\n",
    "\n",
    "#plt.savefig('output/bandwidth.pdf',bbox_inches='tight')\n",
    "#plt.show()\n",
    "\n",
    "from matplotlib2tikz import save as tikz_save\n",
    "tikz_save(PATH + '/bandwidth.tex',\n",
    "          figureheight='3.5cm',\n",
    "          figurewidth='.9\\\\columnwidth',\n",
    "          extra_axis_parameters = {\"mark options={scale=.15}\",\n",
    "                                   \"legend pos = south east\"}\n",
    "         )"
   ]
  },
  {
   "cell_type": "code",
   "execution_count": null,
   "metadata": {},
   "outputs": [],
   "source": []
  }
 ],
 "metadata": {
  "kernelspec": {
   "display_name": "Python 3",
   "language": "python",
   "name": "python3"
  },
  "language_info": {
   "codemirror_mode": {
    "name": "ipython",
    "version": 3
   },
   "file_extension": ".py",
   "mimetype": "text/x-python",
   "name": "python",
   "nbconvert_exporter": "python",
   "pygments_lexer": "ipython3",
   "version": "3.6.2"
  }
 },
 "nbformat": 4,
 "nbformat_minor": 2
}
